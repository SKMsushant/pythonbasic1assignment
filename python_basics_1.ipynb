{
 "cells": [
  {
   "cell_type": "code",
   "execution_count": 9,
   "metadata": {},
   "outputs": [
    {
     "name": "stdout",
     "output_type": "stream",
     "text": [
      "42 24\n"
     ]
    }
   ],
   "source": [
    "#1python basic variables\n",
    "x=24\n",
    "y=42\n",
    "x,y=y,x\n",
    "print(x,y)"
   ]
  },
  {
   "cell_type": "code",
   "execution_count": 10,
   "metadata": {},
   "outputs": [
    {
     "name": "stdout",
     "output_type": "stream",
     "text": [
      "1196\n"
     ]
    }
   ],
   "source": [
    "#2\n",
    "w=int(input('enter the width of rectangle'))\n",
    "b=int(input('enter the breadth of rectangle'))\n",
    "area=w*b\n",
    "print(area)"
   ]
  },
  {
   "cell_type": "code",
   "execution_count": 11,
   "metadata": {},
   "outputs": [
    {
     "name": "stdout",
     "output_type": "stream",
     "text": [
      "25.0 >> 77.0\n"
     ]
    }
   ],
   "source": [
    "#3\n",
    "Ct=float(input('enter the degree temp. in celcius'))\n",
    "F=(9/5)*Ct+32\n",
    "print(Ct,'>>',F)"
   ]
  },
  {
   "cell_type": "code",
   "execution_count": 12,
   "metadata": {},
   "outputs": [],
   "source": [
    "#String Based Questions"
   ]
  },
  {
   "cell_type": "code",
   "execution_count": 14,
   "metadata": {},
   "outputs": [
    {
     "name": "stdout",
     "output_type": "stream",
     "text": [
      "i love you >> 10\n"
     ]
    }
   ],
   "source": [
    "#1\n",
    "w=str(input('enter your string'))\n",
    "L=len(w)\n",
    "print(w,'>>',L)"
   ]
  },
  {
   "cell_type": "code",
   "execution_count": 27,
   "metadata": {},
   "outputs": [
    {
     "name": "stdout",
     "output_type": "stream",
     "text": [
      "2\n"
     ]
    }
   ],
   "source": [
    "#2\n",
    "S=str(input('enter the string to check vowels'))\n",
    "V=0\n",
    "for i in S:\n",
    "    if i in 'AaEeIiOoUu':\n",
    "        V+=1\n",
    "print(V)"
   ]
  },
  {
   "cell_type": "code",
   "execution_count": 30,
   "metadata": {},
   "outputs": [
    {
     "name": "stdout",
     "output_type": "stream",
     "text": [
      "hello world\n",
      "dlrow olleh\n"
     ]
    }
   ],
   "source": [
    "#3\n",
    "G=str(input('enter the string'))\n",
    "print(G)\n",
    "RS=G[::-1]\n",
    "print(RS)"
   ]
  },
  {
   "cell_type": "code",
   "execution_count": 37,
   "metadata": {},
   "outputs": [
    {
     "name": "stdout",
     "output_type": "stream",
     "text": [
      "malayalam\n",
      "yes\n"
     ]
    }
   ],
   "source": [
    "#4\n",
    "S=str(input('enter the string you want to check'))\n",
    "print(S)\n",
    "if S==S[::-1]:\n",
    "    print('yes')\n",
    "else:\n",
    "    print('no')"
   ]
  },
  {
   "cell_type": "code",
   "execution_count": 38,
   "metadata": {},
   "outputs": [
    {
     "name": "stdout",
     "output_type": "stream",
     "text": [
      "i love you\n",
      "iloveyou\n"
     ]
    }
   ],
   "source": [
    "#5\n",
    "D=str(input('enter the sentence'))\n",
    "print(D)\n",
    "M=''\n",
    "for i in D:\n",
    "    if i!=' ':\n",
    "        M+=i\n",
    "print(M)"
   ]
  },
  {
   "cell_type": "code",
   "execution_count": null,
   "metadata": {},
   "outputs": [],
   "source": []
  }
 ],
 "metadata": {
  "kernelspec": {
   "display_name": "Python 3",
   "language": "python",
   "name": "python3"
  },
  "language_info": {
   "codemirror_mode": {
    "name": "ipython",
    "version": 3
   },
   "file_extension": ".py",
   "mimetype": "text/x-python",
   "name": "python",
   "nbconvert_exporter": "python",
   "pygments_lexer": "ipython3",
   "version": "3.11.7"
  }
 },
 "nbformat": 4,
 "nbformat_minor": 2
}
